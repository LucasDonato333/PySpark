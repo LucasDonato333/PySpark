{
 "cells": [
  {
   "cell_type": "markdown",
   "metadata": {
    "slideshow": {
     "slide_type": "skip"
    }
   },
   "source": [
    "# IMPORTANDO BIBLIOTECAS\n",
    "___________________________________________________________________________________________________________________________"
   ]
  },
  {
   "cell_type": "code",
   "execution_count": 1,
   "metadata": {
    "collapsed": false
   },
   "outputs": [
    {
     "name": "stdout",
     "output_type": "stream",
     "text": [
      "Starting Spark application\n"
     ]
    },
    {
     "data": {
      "text/html": [
       "<table>\n",
       "<tr><th>ID</th><th>YARN Application ID</th><th>Kind</th><th>State</th><th>Spark UI</th><th>Driver log</th><th>Current session?</th></tr><tr><td>14</td><td>application_1541074800778_0020</td><td>pyspark</td><td>idle</td><td><a target=\"_blank\" href=\"http://hn0-keyrus.j42532j4netu5nsywwuq3wg0cg.cx.internal.cloudapp.net:8088/proxy/application_1541074800778_0020/\">Link</a></td><td><a target=\"_blank\" href=\"http://wn3-keyrus.j42532j4netu5nsywwuq3wg0cg.cx.internal.cloudapp.net:30060/node/containerlogs/container_1541074800778_0020_01_000001/livy\">Link</a></td><td>✔</td></tr></table>"
      ],
      "text/plain": [
       "<IPython.core.display.HTML object>"
      ]
     },
     "metadata": {},
     "output_type": "display_data"
    },
    {
     "name": "stdout",
     "output_type": "stream",
     "text": [
      "SparkSession available as 'spark'.\n"
     ]
    }
   ],
   "source": [
    "#Para trabalhar com funções de janela.\n",
    "#Funções de utilitário para definir a janela em DataFrames.\n",
    "from pyspark.sql.window import Window\n",
    "#-----------------------------------------------------------\n",
    "\n",
    "#Lista de funções internas disponíveis para DataFrame.\n",
    "import pyspark.sql.functions as F\n",
    "#-----------------------------------------------------------\n",
    "\n",
    "# Lista de tipos de dados disponíveis.\n",
    "from pyspark.sql.types import DateType\n",
    "#-----------------------------------------------------------\n",
    "\n",
    "from pyspark.sql import SparkSession\n",
    "\n",
    "\n",
    "from time import gmtime, strftime\n",
    "# strftime(\"%Y-%m-%d %H:%M:%S \", gmtime()) --- "
   ]
  },
  {
   "cell_type": "markdown",
   "metadata": {},
   "source": [
    "___________________________________________________________________________________________________________________________\n",
    "# EXEPLO DE CSV\n",
    "\n",
    "NOME: \" teste \"\n",
    "___________________________________________________________________________________________________________________________"
   ]
  },
  {
   "cell_type": "markdown",
   "metadata": {},
   "source": [
    "1,RSHXUOXMHKZVTULSHCLNJ,97.8471\n",
    "2,WJREFAVGPVBTQGDSEX,75.8414\n",
    "3,GKJIOFDHO,56.7221\n",
    "4,LGDONPRSQNPCPTSMNKM,23.2679\n",
    "5,AMRKLGTX,24.4633\n",
    "6,MCCFPSZWQXOZKY,21.6109\n",
    "7,PCFNLQYLHVYP,14.9556\n",
    "1,RINVUMMKGDJI,25.5151\n",
    "2,ZSELIOHBTONPHV,31.439\n",
    "3,SYJBEKGNWXYG,58.3483\n",
    "4,LGANFUQIERGI,43.4005\n",
    "5,FYYDBJMDIAVK,94.7483\n",
    "6,FLLTGAFISAMTVTB,96.0267\n",
    "7,FFXVCOCI,57.5802\n",
    "1,CAMHGDSQEQTEDSFNFDEWDQ,58.5843\n",
    "2,SDPWNOA,51.448\n",
    "3,KZGRFQSYYUACONEBRGPDNUEA,79.106\n",
    "4,WGOEJYEXDUZYZNLAP,59.3326\n",
    "5,CPSYTYFFSHGOGXELRNXS,65.452\n",
    "6,EGWDWTBWGBUGABJMI,14.1573\n",
    "7,ENDPURXMDD,72.0176"
   ]
  },
  {
   "cell_type": "markdown",
   "metadata": {},
   "source": [
    "#  CSV PARA DATAFRAME\n",
    "___________________________________________________________________________________________________________________________\n",
    "DEFINIR DADOS DO CSV COMO DATAFRAME"
   ]
  },
  {
   "cell_type": "code",
   "execution_count": 10,
   "metadata": {
    "collapsed": false
   },
   "outputs": [],
   "source": [
    "df = spark.read.format('csv').load('wasb://keyrus@estagiando.blob.core.windows.net/HdiNotebooks/Lucas Donato/testeDonato.csv')"
   ]
  },
  {
   "cell_type": "markdown",
   "metadata": {},
   "source": [
    "# SELECT\n",
    "___________________________________________________________________________________________________________________________"
   ]
  },
  {
   "cell_type": "markdown",
   "metadata": {},
   "source": [
    "MOSTRE A PRIMEIRA E A ULTIMA COLUNA."
   ]
  },
  {
   "cell_type": "code",
   "execution_count": null,
   "metadata": {
    "collapsed": true
   },
   "outputs": [],
   "source": [
    "df.select(\"_c0\",\"_c2\").show()"
   ]
  },
  {
   "cell_type": "markdown",
   "metadata": {},
   "source": [
    "MOSTRE OS ELEMENTOS DA PRIMEIRA COLUNA QUE ESTÃO ENTRE 1 E 5."
   ]
  },
  {
   "cell_type": "code",
   "execution_count": null,
   "metadata": {
    "collapsed": true
   },
   "outputs": [],
   "source": [
    "df.select(df._c0.between(1, 5)).show()"
   ]
  },
  {
   "cell_type": "markdown",
   "metadata": {},
   "source": [
    "MOSTRE QUANTOS ELEMENTOS TERMINAM COM A LETRA \"P\""
   ]
  },
  {
   "cell_type": "code",
   "execution_count": null,
   "metadata": {
    "collapsed": true
   },
   "outputs": [],
   "source": [
    "df.select(df._c1.endswith(\"P\")).show() "
   ]
  },
  {
   "cell_type": "markdown",
   "metadata": {},
   "source": [
    "ORDENE O DATAFRAME PELA PRIMEIRA COLUNA EM ORDEM CRESCENTE"
   ]
  },
  {
   "cell_type": "code",
   "execution_count": null,
   "metadata": {
    "collapsed": true
   },
   "outputs": [],
   "source": [
    "df.sort(\"_c0\", ascending=True).show()"
   ]
  },
  {
   "cell_type": "markdown",
   "metadata": {},
   "source": [
    "ORDENE O DATAFRAME PELA PRIMEIRA COLUNA EM ORDEM DECRESCENTE, EXBINDO COM PANDAS."
   ]
  },
  {
   "cell_type": "code",
   "execution_count": null,
   "metadata": {
    "collapsed": true
   },
   "outputs": [],
   "source": [
    "df.sort(\"_c0\", ascending=False).toPandas()"
   ]
  },
  {
   "cell_type": "markdown",
   "metadata": {},
   "source": [
    "RETORNA O NOME DAS COLUNAS"
   ]
  },
  {
   "cell_type": "code",
   "execution_count": null,
   "metadata": {
    "collapsed": true
   },
   "outputs": [],
   "source": [
    "df.columns"
   ]
  },
  {
   "cell_type": "markdown",
   "metadata": {},
   "source": [
    "Retona o número de Linhas do DF"
   ]
  },
  {
   "cell_type": "code",
   "execution_count": null,
   "metadata": {
    "collapsed": true
   },
   "outputs": [],
   "source": [
    "df.count()"
   ]
  },
  {
   "cell_type": "markdown",
   "metadata": {},
   "source": [
    "DADOS ESTATÍSTICOS SOBRE O DATAFRAME\n",
    "\n",
    "\n",
    "\n",
    "----------------------------------------------------\n",
    "    COUNT:  Contagem de LinhasCONTAGEM DE LINHAS\n",
    "    MEAN:   Média\n",
    "    STDDEV: Desvio Padrão, Variancia\n",
    "    MIN:    Valor Mínimo do DataFrame\n",
    "    MAX:    Valor Máximo do DataFrame"
   ]
  },
  {
   "cell_type": "code",
   "execution_count": null,
   "metadata": {
    "collapsed": true
   },
   "outputs": [],
   "source": [
    "df.describe().show()"
   ]
  },
  {
   "cell_type": "markdown",
   "metadata": {},
   "source": [
    " INFORMAÇÕES SOBRE O DATAFRAME\n",
    "\n",
    "\n",
    "\n",
    "----------------------------------------------------\n",
    "    Batched:  Em Lote\n",
    "    Format:   Formato\n",
    "    Location: Localização do Arquivo"
   ]
  },
  {
   "cell_type": "code",
   "execution_count": null,
   "metadata": {
    "collapsed": true
   },
   "outputs": [],
   "source": [
    "df.explain()"
   ]
  },
  {
   "cell_type": "markdown",
   "metadata": {},
   "source": [
    "EXIBIÇÃO DO DATAFRAME COM PANDAS"
   ]
  },
  {
   "cell_type": "code",
   "execution_count": null,
   "metadata": {
    "collapsed": true
   },
   "outputs": [],
   "source": [
    "df.toPandas()"
   ]
  },
  {
   "cell_type": "markdown",
   "metadata": {},
   "source": [
    "___________________________________________________________________________________________________________________________\n",
    "\n",
    "# RENOMEAR\n",
    "___________________________________________________________________________________________________________________________\n",
    "RENOMEIA UMA COLUNA.\n",
    "\n",
    "INFORME O NOME ATUAL DA COLUNA E O NOME NOVO DA COLUNA."
   ]
  },
  {
   "cell_type": "code",
   "execution_count": 13,
   "metadata": {
    "collapsed": false
   },
   "outputs": [],
   "source": [
    "df = df.withColumnRenamed('_c0', 'Number')\n",
    "df = df.withColumnRenamed('_c1', 'Name')\n",
    "df = df.withColumnRenamed('_c2', 'Value')"
   ]
  },
  {
   "cell_type": "markdown",
   "metadata": {},
   "source": [
    "___________________________________________________________________________________________________________________________\n",
    "\n",
    "# EXCLUIR\n",
    "___________________________________________________________________________________________________________________________\n",
    "ELIMINANDO UMA COLUNA"
   ]
  },
  {
   "cell_type": "code",
   "execution_count": 14,
   "metadata": {
    "collapsed": true
   },
   "outputs": [],
   "source": [
    "df = df.drop(\"Name\")"
   ]
  },
  {
   "cell_type": "code",
   "execution_count": null,
   "metadata": {
    "collapsed": true
   },
   "outputs": [],
   "source": [
    "df = df.drop(df.Number)"
   ]
  },
  {
   "cell_type": "markdown",
   "metadata": {},
   "source": [
    "___________________________________________________________________________________________________________________________\n",
    "\n",
    "# ADCIONAR\n",
    "___________________________________________________________________________________________________________________________\n",
    "ADCIONANDO UMA COLUNA"
   ]
  },
  {
   "cell_type": "markdown",
   "metadata": {},
   "source": [
    "CRIA UMA NOVA COLUNA COM NOME DE NUMERO E ATRIBUI OS\n",
    "VALORES DA COLUNA NUMBER"
   ]
  },
  {
   "cell_type": "code",
   "execution_count": null,
   "metadata": {
    "collapsed": true
   },
   "outputs": [],
   "source": [
    "df = df.withColumn('numero',df.Number)"
   ]
  },
  {
   "cell_type": "markdown",
   "metadata": {},
   "source": [
    "CRIA UMA NOVA COLUNA COM NOME DE ADRESS COM VALOR ZERADO\n",
    "\n",
    "\"F = import pyspark.sql.functions as F (Lista de funções internas disponíveis para DataFrame)\""
   ]
  },
  {
   "cell_type": "code",
   "execution_count": null,
   "metadata": {
    "collapsed": true
   },
   "outputs": [],
   "source": [
    "df = df.withColumn('adress', F.lit(0)) "
   ]
  },
  {
   "cell_type": "markdown",
   "metadata": {},
   "source": [
    "CRIA UMA NOVA COLUNA COM NOME DE DATA COM VALOR DATA\n",
    "\n",
    "\" data = strftime(\"%Y-%m-%d\", gmtime()) \""
   ]
  },
  {
   "cell_type": "code",
   "execution_count": null,
   "metadata": {
    "collapsed": true
   },
   "outputs": [],
   "source": [
    "df = df.withColumn('tempo', F.lit(data))                                     "
   ]
  },
  {
   "cell_type": "markdown",
   "metadata": {},
   "source": [
    "___________________________________________________________________________________________________________________________\n",
    "# DATAFRAME PARA CSV\n",
    "___________________________________________________________________________________________________________________________\n",
    "EXEMPLOS DE CÓDIGO PARA SALVAR UM DATAFRAME PARA UM CSV\n"
   ]
  },
  {
   "cell_type": "markdown",
   "metadata": {},
   "source": [
    "1ª FORMA DE SALVAR DATAFRAME PARA CSV"
   ]
  },
  {
   "cell_type": "code",
   "execution_count": null,
   "metadata": {
    "collapsed": true
   },
   "outputs": [],
   "source": [
    "df.write.format('com.databricks.spark.csv').save('wasb://keyrus@estagiando.blob.core.windows.net/HdiNotebooks/Lucas Donato/mycsv.csv')"
   ]
  },
  {
   "cell_type": "markdown",
   "metadata": {},
   "source": [
    "2ª FORMA DE SALVAR DATAFRAME PARA CSV"
   ]
  },
  {
   "cell_type": "code",
   "execution_count": null,
   "metadata": {
    "collapsed": true
   },
   "outputs": [],
   "source": [
    "df.write.csv('wasb://keyrus@estagiando.blob.core.windows.net/HdiNotebooks/Lucas Donato/mycsv.csv')"
   ]
  },
  {
   "cell_type": "markdown",
   "metadata": {},
   "source": [
    "___________________________________________________________________________________________________________________________\n",
    "# STRING PARA DOUBLE (FLOAT)\n",
    "___________________________________________________________________________________________________________________________\n",
    "CONVERTENDO STRING DA COLUNA Value PARA DOUBLE"
   ]
  },
  {
   "cell_type": "code",
   "execution_count": null,
   "metadata": {
    "collapsed": true
   },
   "outputs": [],
   "source": [
    "df = df.withColumn(\"Value\", df[\"Value\"].cast(DoubleType()))"
   ]
  },
  {
   "cell_type": "markdown",
   "metadata": {},
   "source": [
    "___________________________________________________________________________________________________________________________\n",
    "# SOMAR\n",
    "___________________________________________________________________________________________________________________________\n",
    "SOMAR TODAS AS COLUNAS E CRIAR UMA NOVA CHAMADA TOTAL.\n",
    "\n",
    "É REALIZADO A SOMA DE CADA LINHA DE TODAS AS COLUNAS."
   ]
  },
  {
   "cell_type": "code",
   "execution_count": null,
   "metadata": {
    "collapsed": false
   },
   "outputs": [],
   "source": [
    "df = df.withColumn('Total', sum(df[col] for col in df.columns))"
   ]
  }
 ],
 "metadata": {
  "kernelspec": {
   "display_name": "PySpark",
   "language": "",
   "name": "pysparkkernel"
  },
  "language_info": {
   "codemirror_mode": {
    "name": "python",
    "version": 2
   },
   "mimetype": "text/x-python",
   "name": "pyspark",
   "pygments_lexer": "python2"
  }
 },
 "nbformat": 4,
 "nbformat_minor": 2
}